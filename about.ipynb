{
  "cells": [
    {
      "cell_type": "raw",
      "metadata": {},
      "source": [
        "---\n",
        "title: \"About\"\n",
        "image: images/DALLE_whale.webp\n",
        "about:\n",
        "  template: jolla\n",
        "  links:\n",
        "    - icon: envelope\n",
        "      text: Mail\n",
        "      href: oknmj101@naver.com\n",
        "    - icon: linkedin\n",
        "      text: LinkedIn\n",
        "      href: https://www.linkedin.com/in/jonghwan-yoon\n",
        "    - icon: github\n",
        "      text: Github\n",
        "      href: https://github.com/jonghwanyoon\n",
        "\n",
        "---"
      ],
      "id": "bfe40e39"
    },
    {
      "cell_type": "markdown",
      "metadata": {},
      "source": [
        "Reseacher & Bioinformatician\n",
        "\n",
        "\n",
        "\n",
        "```{html}\n",
        "  <a href=\"http://localhost:3278/oknmj101@naver.com\" class=\"about-link\" rel=\"\" target=\"\" data-original-href=\"http://localhost:3278/oknmj101@naver.com\">\n",
        "    <i class=\"bi bi-envelope\"></i>\n",
        "     <span class=\"about-link-text\">Mail</span>\n",
        "  </a>\n",
        "  <a href=\"https://www.linkedin.com/in/jonghwan-yoon\" class=\"about-link\" rel=\"\" target=\"\" data-original-href=\"https://www.linkedin.com/in/jonghwan-yoon\">\n",
        "    <i class=\"bi bi-linkedin\"></i>\n",
        "     <span class=\"about-link-text\">LinkedIn</span>\n",
        "  </a>\n",
        "  <a href=\"https://github.com/jonghwanyoon\" class=\"about-link\" rel=\"\" target=\"\" data-original-href=\"https://github.com/jonghwanyoon\">\n",
        "    <i class=\"bi bi-github\"></i>\n",
        "     <span class=\"about-link-text\">Github</span>\n",
        "  </a>\n",
        "```"
      ],
      "id": "9b7085ae"
    }
  ],
  "metadata": {
    "kernelspec": {
      "name": "python3",
      "language": "python",
      "display_name": "Python 3 (ipykernel)"
    }
  },
  "nbformat": 4,
  "nbformat_minor": 5
}